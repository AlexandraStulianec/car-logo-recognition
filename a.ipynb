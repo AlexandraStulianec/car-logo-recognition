{
 "cells": [
  {
   "metadata": {
    "ExecuteTime": {
     "end_time": "2024-10-24T14:24:01.519097Z",
     "start_time": "2024-10-24T14:23:53.510226Z"
    }
   },
   "cell_type": "code",
   "source": [
    "import torch\n",
    "import torch.nn as nn\n",
    "import torch.nn.functional as F\n",
    "import torch.optim as optim\n",
    "import torchvision\n",
    "import torchvision.transforms as transforms\n",
    "from torch.utils.data import DataLoader"
   ],
   "id": "3b1e89e419f05616",
   "outputs": [],
   "execution_count": 1
  },
  {
   "metadata": {
    "ExecuteTime": {
     "end_time": "2024-10-24T14:24:45.467866Z",
     "start_time": "2024-10-24T14:24:45.447562Z"
    }
   },
   "cell_type": "code",
   "source": [
    "# Check if GPU is available if not use cpu\n",
    "device = torch.device(\"cuda\" if torch.cuda.is_available() else \"cpu\")"
   ],
   "id": "86b0f07627bec9b",
   "outputs": [],
   "execution_count": 2
  },
  {
   "metadata": {
    "ExecuteTime": {
     "end_time": "2024-10-24T14:27:01.762961Z",
     "start_time": "2024-10-24T14:24:46.902539Z"
    }
   },
   "cell_type": "code",
   "source": [
    "all_transforms = transforms.Compose([\n",
    "    transforms.Resize((32, 32)),\n",
    "    transforms.RandomHorizontalFlip(),\n",
    "    transforms.RandomRotation(10),\n",
    "    transforms.ColorJitter(brightness=0.1, contrast=0.1, saturation=0.1, hue=0.1),\n",
    "    transforms.ToTensor(),\n",
    "    transforms.Normalize((0.5, 0.5, 0.5), (0.5, 0.5, 0.5))\n",
    "])\n",
    "\n",
    "train_set = torchvision.datasets.ImageFolder(root='./Car_Brand_Logos/Train', transform=all_transforms)\n",
    "test_set = torchvision.datasets.ImageFolder(root='./Car_Brand_Logos/Test', transform=all_transforms)\n",
    "\n",
    "train_loader = DataLoader(train_set, batch_size=8, shuffle=True)\n",
    "test_loader = DataLoader(test_set, batch_size=8,shuffle=False)\n",
    "\n",
    "classes = ('hyundai', 'lexus', 'mazda', 'mercedes', 'opel', 'skoda', 'toyota', 'volkswagen')"
   ],
   "id": "df63560d792fb64d",
   "outputs": [],
   "execution_count": 3
  },
  {
   "metadata": {
    "ExecuteTime": {
     "end_time": "2024-10-24T14:27:09.588343Z",
     "start_time": "2024-10-24T14:27:09.577364Z"
    }
   },
   "cell_type": "code",
   "source": [
    "print('Number of images in the training dataset:', len(train_set))\n",
    "print('Number of images in the testing dataset:', len(test_set))"
   ],
   "id": "3fe33d9748dedb5e",
   "outputs": [
    {
     "name": "stdout",
     "output_type": "stream",
     "text": [
      "Number of images in the training dataset: 2512\n",
      "Number of images in the testing dataset: 400\n"
     ]
    }
   ],
   "execution_count": 4
  },
  {
   "metadata": {
    "ExecuteTime": {
     "end_time": "2024-10-24T14:28:40.068816Z",
     "start_time": "2024-10-24T14:28:40.040090Z"
    }
   },
   "cell_type": "code",
   "source": [
    "class ConvNeuralNet(nn.Module):\n",
    "    def __init__(self):\n",
    "        super().__init__()\n",
    "\n",
    "        self.conv1 = nn.Conv2d(in_channels=3, out_channels=64, kernel_size=3)\n",
    "        self.conv2 = nn.Conv2d(in_channels=64, out_channels=128, kernel_size=3)\n",
    "\n",
    "        self.pool = nn.MaxPool2d(kernel_size=2, stride=2)  # Pooling layer with kernel size of 2\n",
    "        self.dropout = nn.Dropout(0.5)\n",
    "\n",
    "        self.fc1 = nn.Linear(128 * 6 * 6, 120)\n",
    "        self.fc2 = nn.Linear(120, 84)\n",
    "        self.fc3 = nn.Linear(84, len(classes))\n",
    "\n",
    "    def forward(self, out):\n",
    "        out = F.relu(self.conv1(out))  # Apply first conv layer\n",
    "        out = self.pool(out)            # Apply first pooling\n",
    "        out = F.relu(self.conv2(out))\n",
    "        out = self.pool(out)\n",
    "\n",
    "        out = torch.flatten(out, 1)\n",
    "        out = self.dropout(out)\n",
    "\n",
    "        out = F.relu(self.fc1(out))\n",
    "        out = self.dropout(out)\n",
    "        out = F.relu(self.fc2(out))\n",
    "        out = F.log_softmax(self.fc3(out), dim=1)\n",
    "        return out\n",
    "\n",
    "# Initialize the network and move it to the device\n",
    "model = ConvNeuralNet().to(device)"
   ],
   "id": "2e301ddcf34faeef",
   "outputs": [],
   "execution_count": 5
  },
  {
   "metadata": {
    "ExecuteTime": {
     "end_time": "2024-10-24T14:30:56.036745Z",
     "start_time": "2024-10-24T14:28:44.616581Z"
    },
    "pycharm": {
     "is_executing": true
    }
   },
   "cell_type": "code",
   "source": [
    "# Here it is the loss function and optimizer\n",
    "loss_function = nn.NLLLoss()\n",
    "optimizer = optim.Adam(model.parameters(), lr=0.001)\n",
    "\n",
    "epochs = 50\n",
    "for epoch in range(epochs):\n",
    "    model.train()\n",
    "    runloss = 0.0\n",
    "    for i, data in enumerate(train_loader):\n",
    "        inputs, labels = data[0].to(device), data[1].to(device)\n",
    "\n",
    "        optimizer.zero_grad()\n",
    "        outputs = model(inputs)\n",
    "        loss = loss_function(outputs, labels)\n",
    "\n",
    "        loss.backward()\n",
    "        optimizer.step()\n",
    "\n",
    "        runloss += loss.item()\n",
    "        if i % 100 == 99:  # Print every 100 mini-batches\n",
    "            print(f'[{epoch + 1}/{epochs}, {i + 1:5d}] loss: {runloss / 100:.3f}')\n",
    "            runloss = 0.0\n",
    "\n",
    "print('Finished Training')\n",
    "\n",
    "torch.save(model.state_dict(), 'model5.pth')\n",
    "print('Model saved as model5.pth')"
   ],
   "id": "fe72566e409833b",
   "outputs": [],
   "execution_count": null
  },
  {
   "metadata": {},
   "cell_type": "code",
   "outputs": [],
   "execution_count": null,
   "source": [
    "correct = 0\n",
    "total = 0\n",
    "\n",
    "with torch.no_grad():\n",
    "    for data in test_loader:\n",
    "        images, labels = data[0].to(device), data[1].to(device)\n",
    "\n",
    "        outputs = model(images)\n",
    "\n",
    "        _, predicted = torch.max(outputs.data, 1)\n",
    "        total += labels.size(0)\n",
    "        correct += (predicted == labels).sum().item()\n",
    "\n",
    "print(f'Accuracy on the test images: {100 * correct // total} %')"
   ],
   "id": "3075ebd90ed1de6d"
  }
 ],
 "metadata": {
  "kernelspec": {
   "display_name": "Python 3",
   "language": "python",
   "name": "python3"
  },
  "language_info": {
   "codemirror_mode": {
    "name": "ipython",
    "version": 2
   },
   "file_extension": ".py",
   "mimetype": "text/x-python",
   "name": "python",
   "nbconvert_exporter": "python",
   "pygments_lexer": "ipython2",
   "version": "2.7.6"
  }
 },
 "nbformat": 4,
 "nbformat_minor": 5
}
